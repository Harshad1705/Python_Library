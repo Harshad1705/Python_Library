{
 "cells": [
  {
   "cell_type": "code",
   "execution_count": 1,
   "metadata": {},
   "outputs": [],
   "source": [
    "import pandas as pd"
   ]
  },
  {
   "cell_type": "code",
   "execution_count": 2,
   "metadata": {},
   "outputs": [],
   "source": [
    "movies_data=pd.read_csv(\"tmdb_5000_movies.csv\")"
   ]
  },
  {
   "cell_type": "code",
   "execution_count": 10,
   "metadata": {},
   "outputs": [],
   "source": [
    "ser=movies_data[\"runtime\"]"
   ]
  },
  {
   "cell_type": "code",
   "execution_count": 11,
   "metadata": {},
   "outputs": [
    {
     "data": {
      "text/plain": [
       "pandas.core.frame.DataFrame"
      ]
     },
     "execution_count": 11,
     "metadata": {},
     "output_type": "execute_result"
    }
   ],
   "source": [
    "type(movies_data)"
   ]
  },
  {
   "cell_type": "code",
   "execution_count": 12,
   "metadata": {},
   "outputs": [
    {
     "data": {
      "text/plain": [
       "pandas.core.series.Series"
      ]
     },
     "execution_count": 12,
     "metadata": {},
     "output_type": "execute_result"
    }
   ],
   "source": [
    "type(ser)"
   ]
  },
  {
   "cell_type": "code",
   "execution_count": 13,
   "metadata": {},
   "outputs": [
    {
     "data": {
      "text/plain": [
       "513111.0"
      ]
     },
     "execution_count": 13,
     "metadata": {},
     "output_type": "execute_result"
    }
   ],
   "source": [
    "ser.sum()"
   ]
  },
  {
   "cell_type": "code",
   "execution_count": 17,
   "metadata": {},
   "outputs": [
    {
     "data": {
      "text/plain": [
       "4803"
      ]
     },
     "execution_count": 17,
     "metadata": {},
     "output_type": "execute_result"
    }
   ],
   "source": [
    "ser.size  \n",
    "#  also included nan (non assigned value)"
   ]
  },
  {
   "cell_type": "code",
   "execution_count": 19,
   "metadata": {},
   "outputs": [
    {
     "data": {
      "text/plain": [
       "4801"
      ]
     },
     "execution_count": 19,
     "metadata": {},
     "output_type": "execute_result"
    }
   ],
   "source": [
    "ser.count()"
   ]
  },
  {
   "cell_type": "code",
   "execution_count": 21,
   "metadata": {},
   "outputs": [
    {
     "data": {
      "text/plain": [
       "2"
      ]
     },
     "execution_count": 21,
     "metadata": {},
     "output_type": "execute_result"
    }
   ],
   "source": [
    "ser.size-ser.count()"
   ]
  },
  {
   "cell_type": "code",
   "execution_count": 22,
   "metadata": {},
   "outputs": [
    {
     "data": {
      "text/plain": [
       "106.87585919600083"
      ]
     },
     "execution_count": 22,
     "metadata": {},
     "output_type": "execute_result"
    }
   ],
   "source": [
    "ser.mean()"
   ]
  },
  {
   "cell_type": "code",
   "execution_count": 23,
   "metadata": {},
   "outputs": [
    {
     "data": {
      "text/plain": [
       "22.611934588844207"
      ]
     },
     "execution_count": 23,
     "metadata": {},
     "output_type": "execute_result"
    }
   ],
   "source": [
    "ser.std()"
   ]
  },
  {
   "cell_type": "code",
   "execution_count": 24,
   "metadata": {},
   "outputs": [
    {
     "data": {
      "text/plain": [
       "103.0"
      ]
     },
     "execution_count": 24,
     "metadata": {},
     "output_type": "execute_result"
    }
   ],
   "source": [
    "ser.median()"
   ]
  },
  {
   "cell_type": "code",
   "execution_count": 26,
   "metadata": {},
   "outputs": [
    {
     "data": {
      "text/plain": [
       "0.0"
      ]
     },
     "execution_count": 26,
     "metadata": {},
     "output_type": "execute_result"
    }
   ],
   "source": [
    "ser.min()"
   ]
  },
  {
   "cell_type": "code",
   "execution_count": 27,
   "metadata": {},
   "outputs": [
    {
     "data": {
      "text/plain": [
       "338.0"
      ]
     },
     "execution_count": 27,
     "metadata": {},
     "output_type": "execute_result"
    }
   ],
   "source": [
    "ser.max()"
   ]
  },
  {
   "cell_type": "code",
   "execution_count": null,
   "metadata": {},
   "outputs": [],
   "source": []
  },
  {
   "cell_type": "code",
   "execution_count": 28,
   "metadata": {},
   "outputs": [
    {
     "data": {
      "text/plain": [
       "array([162., 169., 148., 165., 132., 139., 100., 141., 153., 151., 154.,\n",
       "       106., 149., 143., 150., 136., 144., 140., 161., 113., 187., 194.,\n",
       "       147., 131., 124., 127., 130., 108., 104., 142., 125., 114., 103.,\n",
       "       115., 137., 116., 122.,  93.,  98.,  91., 158.,  96., 109., 152.,\n",
       "        94., 126., 112., 123., 135., 118.,  97., 119., 102., 120., 121.,\n",
       "       166.,  99., 183., 175., 138., 157.,  92., 101., 111.,  89., 105.,\n",
       "       107., 129.,  88.,  85., 163., 133.,  95.,  90., 110., 128., 156.,\n",
       "       117., 146.,  82.,  78., 134., 170.,  76., 178.,  84., 155., 145.,\n",
       "       180., 172., 167., 201., 179.,  83.,  87.,  80.,  74.,  81., 177.,\n",
       "        86., 164., 159., 191., 189., 214.,   0.,  75., 192., 160., 219.,\n",
       "       248., 188., 202., 173., 195.,  77.,  79.,  63., 229., 193., 254.,\n",
       "        72.,  68., 199., 181., 242., 338.,  73., 216., 276.,  nan, 200.,\n",
       "        69., 197., 184., 176., 185., 171., 174.,  46.,  53.,  42., 240.,\n",
       "        41.,  67., 238., 186.,  70.,  14., 225., 207.,  66.,  59.,  25.,\n",
       "        47.,  64.,  60.])"
      ]
     },
     "execution_count": 28,
     "metadata": {},
     "output_type": "execute_result"
    }
   ],
   "source": [
    "ser.unique()\n",
    "#  only used with series not with  dataframe"
   ]
  },
  {
   "cell_type": "code",
   "execution_count": 29,
   "metadata": {},
   "outputs": [
    {
     "data": {
      "text/plain": [
       "157"
      ]
     },
     "execution_count": 29,
     "metadata": {},
     "output_type": "execute_result"
    }
   ],
   "source": [
    "len(ser.unique())\n",
    "#  included nan value\n"
   ]
  },
  {
   "cell_type": "code",
   "execution_count": 30,
   "metadata": {},
   "outputs": [
    {
     "data": {
      "text/plain": [
       "156"
      ]
     },
     "execution_count": 30,
     "metadata": {},
     "output_type": "execute_result"
    }
   ],
   "source": [
    "ser.nunique()"
   ]
  },
  {
   "cell_type": "code",
   "execution_count": 31,
   "metadata": {},
   "outputs": [
    {
     "data": {
      "text/plain": [
       "157"
      ]
     },
     "execution_count": 31,
     "metadata": {},
     "output_type": "execute_result"
    }
   ],
   "source": [
    "ser.nunique(dropna=False)"
   ]
  },
  {
   "cell_type": "code",
   "execution_count": 32,
   "metadata": {},
   "outputs": [
    {
     "ename": "AttributeError",
     "evalue": "'DataFrame' object has no attribute 'unique'",
     "output_type": "error",
     "traceback": [
      "\u001b[1;31m---------------------------------------------------------------------------\u001b[0m",
      "\u001b[1;31mAttributeError\u001b[0m                            Traceback (most recent call last)",
      "\u001b[1;32m<ipython-input-32-23f1362dec8a>\u001b[0m in \u001b[0;36m<module>\u001b[1;34m\u001b[0m\n\u001b[1;32m----> 1\u001b[1;33m \u001b[0mmovies_data\u001b[0m\u001b[1;33m.\u001b[0m\u001b[0munique\u001b[0m\u001b[1;33m(\u001b[0m\u001b[1;33m)\u001b[0m\u001b[1;33m\u001b[0m\u001b[1;33m\u001b[0m\u001b[0m\n\u001b[0m",
      "\u001b[1;32m~\\anaconda3\\lib\\site-packages\\pandas\\core\\generic.py\u001b[0m in \u001b[0;36m__getattr__\u001b[1;34m(self, name)\u001b[0m\n\u001b[0;32m   5137\u001b[0m             \u001b[1;32mif\u001b[0m \u001b[0mself\u001b[0m\u001b[1;33m.\u001b[0m\u001b[0m_info_axis\u001b[0m\u001b[1;33m.\u001b[0m\u001b[0m_can_hold_identifiers_and_holds_name\u001b[0m\u001b[1;33m(\u001b[0m\u001b[0mname\u001b[0m\u001b[1;33m)\u001b[0m\u001b[1;33m:\u001b[0m\u001b[1;33m\u001b[0m\u001b[1;33m\u001b[0m\u001b[0m\n\u001b[0;32m   5138\u001b[0m                 \u001b[1;32mreturn\u001b[0m \u001b[0mself\u001b[0m\u001b[1;33m[\u001b[0m\u001b[0mname\u001b[0m\u001b[1;33m]\u001b[0m\u001b[1;33m\u001b[0m\u001b[1;33m\u001b[0m\u001b[0m\n\u001b[1;32m-> 5139\u001b[1;33m             \u001b[1;32mreturn\u001b[0m \u001b[0mobject\u001b[0m\u001b[1;33m.\u001b[0m\u001b[0m__getattribute__\u001b[0m\u001b[1;33m(\u001b[0m\u001b[0mself\u001b[0m\u001b[1;33m,\u001b[0m \u001b[0mname\u001b[0m\u001b[1;33m)\u001b[0m\u001b[1;33m\u001b[0m\u001b[1;33m\u001b[0m\u001b[0m\n\u001b[0m\u001b[0;32m   5140\u001b[0m \u001b[1;33m\u001b[0m\u001b[0m\n\u001b[0;32m   5141\u001b[0m     \u001b[1;32mdef\u001b[0m \u001b[0m__setattr__\u001b[0m\u001b[1;33m(\u001b[0m\u001b[0mself\u001b[0m\u001b[1;33m,\u001b[0m \u001b[0mname\u001b[0m\u001b[1;33m:\u001b[0m \u001b[0mstr\u001b[0m\u001b[1;33m,\u001b[0m \u001b[0mvalue\u001b[0m\u001b[1;33m)\u001b[0m \u001b[1;33m->\u001b[0m \u001b[1;32mNone\u001b[0m\u001b[1;33m:\u001b[0m\u001b[1;33m\u001b[0m\u001b[1;33m\u001b[0m\u001b[0m\n",
      "\u001b[1;31mAttributeError\u001b[0m: 'DataFrame' object has no attribute 'unique'"
     ]
    }
   ],
   "source": [
    "movies_data.unique()"
   ]
  },
  {
   "cell_type": "code",
   "execution_count": 33,
   "metadata": {},
   "outputs": [
    {
     "data": {
      "text/plain": [
       "budget                   436\n",
       "genres                  1175\n",
       "homepage                1691\n",
       "id                      4803\n",
       "keywords                4222\n",
       "original_language         37\n",
       "original_title          4801\n",
       "overview                4800\n",
       "popularity              4802\n",
       "production_companies    3697\n",
       "production_countries     469\n",
       "release_date            3280\n",
       "revenue                 3297\n",
       "runtime                  156\n",
       "spoken_languages         544\n",
       "status                     3\n",
       "tagline                 3944\n",
       "title                   4800\n",
       "vote_average              71\n",
       "vote_count              1609\n",
       "dtype: int64"
      ]
     },
     "execution_count": 33,
     "metadata": {},
     "output_type": "execute_result"
    }
   ],
   "source": [
    "movies_data.nunique()"
   ]
  },
  {
   "cell_type": "code",
   "execution_count": 34,
   "metadata": {},
   "outputs": [
    {
     "data": {
      "text/plain": [
       "budget     genres                                                                                                                                 homepage                                                           id      keywords                                                                                                                                                                                                                                                                                                                                                                                                                                                                                                                                                                                                          original_language  original_title                               overview                                                                                                                                                                                                                                                                                                                                                                                                                                                                                         popularity  production_companies                                                                                                                                                                                                                                                                                    production_countries                                                                                 release_date  revenue     runtime  spoken_languages                                                                                                               status    tagline                                                      title                                        vote_average  vote_count\n",
       "380000000  [{\"id\": 12, \"name\": \"Adventure\"}, {\"id\": 28, \"name\": \"Action\"}, {\"id\": 14, \"name\": \"Fantasy\"}]                                         http://disney.go.com/pirates/index-on-stranger-tides.html#/video/  1865    [{\"id\": 658, \"name\": \"sea\"}, {\"id\": 1316, \"name\": \"captain\"}, {\"id\": 1860, \"name\": \"mutiny\"}, {\"id\": 1938, \"name\": \"sword\"}, {\"id\": 2569, \"name\": \"prime minister\"}, {\"id\": 3180, \"name\": \"sailing\"}, {\"id\": 3625, \"name\": \"silver\"}, {\"id\": 3799, \"name\": \"ship\"}, {\"id\": 4235, \"name\": \"duke\"}, {\"id\": 5938, \"name\": \"mermaid\"}, {\"id\": 12988, \"name\": \"pirate\"}, {\"id\": 13065, \"name\": \"soldier\"}, {\"id\": 14643, \"name\": \"battle\"}, {\"id\": 157186, \"name\": \"swashbuckler\"}, {\"id\": 179430, \"name\": \"aftercreditsstinger\"}, {\"id\": 209714, \"name\": \"3d\"}]                                                       en                 Pirates of the Caribbean: On Stranger Tides  Captain Jack Sparrow crosses paths with a woman from his past, and he's not sure if it's love -- or if she's a ruthless con artist who's using him to find the fabled Fountain of Youth. When she forces him aboard the Queen Anne's Revenge, the ship of the formidable pirate Blackbeard, Jack finds himself on an unexpected adventure in which he doesn't know who to fear more: Blackbeard or the woman from his past.                                                                      135.413856  [{\"name\": \"Walt Disney Pictures\", \"id\": 2}, {\"name\": \"Jerry Bruckheimer Films\", \"id\": 130}, {\"name\": \"Moving Picture Company (MPC)\", \"id\": 20478}]                                                                                                                                                      [{\"iso_3166_1\": \"US\", \"name\": \"United States of America\"}]                                           2011-05-14    1045713802  136.0    [{\"iso_639_1\": \"en\", \"name\": \"English\"}, {\"iso_639_1\": \"es\", \"name\": \"Espa\\u00f1ol\"}]                                          Released  Live Forever Or Die Trying.                                  Pirates of the Caribbean: On Stranger Tides  6.4           4948          1\n",
       "14000000   [{\"id\": 35, \"name\": \"Comedy\"}]                                                                                                         http://www.foxsearchlight.com/ourfamilywedding/                    34563   [{\"id\": 10188, \"name\": \"interracial marriage\"}, {\"id\": 13027, \"name\": \"wedding\"}, {\"id\": 179431, \"name\": \"duringcreditsstinger\"}]                                                                                                                                                                                                                                                                                                                                                                                                                                                                                 en                 Our Family Wedding                           The weeks leading up to a young couple's wedding is comic and stressful, especially as their respective fathers try to lay to rest their feud.                                                                                                                                                                                                                                                                                                                                                   6.733485    [{\"name\": \"Fox Searchlight Pictures\", \"id\": 43}, {\"name\": \"Dune Entertainment\", \"id\": 444}, {\"name\": \"Sneak Preview Entertainment\", \"id\": 1975}, {\"name\": \"Pointe Studios\", \"id\": 55015}]                                                                                                               [{\"iso_3166_1\": \"US\", \"name\": \"United States of America\"}]                                           2010-03-12    21409028    103.0    [{\"iso_639_1\": \"en\", \"name\": \"English\"}]                                                                                       Released  To have and to hold... 'Til dads do us part.                 Our Family Wedding                           5.7           39            1\n",
       "13200000   [{\"id\": 80, \"name\": \"Crime\"}, {\"id\": 53, \"name\": \"Thriller\"}]                                                                          http://www.sonypictures.com/movies/nogooddeed/                     136835  [{\"id\": 625, \"name\": \"sadistic\"}, {\"id\": 1562, \"name\": \"hostage\"}, {\"id\": 9740, \"name\": \"sociopath\"}, {\"id\": 10714, \"name\": \"serial killer\"}, {\"id\": 11221, \"name\": \"blood\"}, {\"id\": 12414, \"name\": \"escaped convict\"}, {\"id\": 13112, \"name\": \"murderer\"}, {\"id\": 14903, \"name\": \"home invasion\"}, {\"id\": 15127, \"name\": \"killer\"}, {\"id\": 202703, \"name\": \"deadly\"}, {\"id\": 207159, \"name\": \"escaped killer\"}]                                                                                                                                                                                                   en                 No Good Deed                                 Terri is a devoted wife and mother of two, living an ideal suburban life in Atlanta when Colin, a charming but dangerous escaped convict, shows up at her door claiming car trouble. Terri offers her phone to help him but soon learns that no good deed goes unpunished as she finds herself fighting for survival when he invades her home and terrorizes her family.                                                                                                                         24.656068   [{\"name\": \"Will Packer Productions\", \"id\": 49968}]                                                                                                                                                                                                                                                      [{\"iso_3166_1\": \"US\", \"name\": \"United States of America\"}]                                           2014-09-10    53830415    83.0     [{\"iso_639_1\": \"en\", \"name\": \"English\"}]                                                                                       Released  First he gets into your house. Then he gets into your head.  No Good Deed                                 5.6           181           1\n",
       "13500000   [{\"id\": 18, \"name\": \"Drama\"}, {\"id\": 10749, \"name\": \"Romance\"}, {\"id\": 80, \"name\": \"Crime\"}, {\"id\": 9648, \"name\": \"Mystery\"}]          http://lamiglioreoffertailfilm.it                                  152742  [{\"id\": 5918, \"name\": \"painting\"}, {\"id\": 198318, \"name\": \"auctioneer\"}, {\"id\": 201385, \"name\": \"confidence game\"}, {\"id\": 220933, \"name\": \"fine art\"}, {\"id\": 221810, \"name\": \"honey pot\"}]                                                                                                                                                                                                                                                                                                                                                                                                                      en                 La migliore offerta                          Virgil Oldman is a world renowned antiques expert and auctioneer. An eccentric genius, he leads a solitary life, going to extreme lengths to keep his distance from the messiness of human relationships. When appointed by the beautiful but emotionally damaged Claire to oversee the valuation and sale of her family’s priceless art collection, Virgil allows himself to form an attachment to her – and soon he is engulfed by a passion which will rock his bland existence to the core.  30.058263   [{\"name\": \"Paco Cinematografica\", \"id\": 3110}, {\"name\": \"Warner Bros.\", \"id\": 6194}, {\"name\": \"Regione Lazio\", \"id\": 20416}, {\"name\": \"Business Location Sudtirol Alto Adige\", \"id\": 20644}, {\"name\": \"Friuli Venezia Giulia Film Commission\", \"id\": 38591}, {\"name\": \"UniCredit Group\", \"id\": 38592}]  [{\"iso_3166_1\": \"IT\", \"name\": \"Italy\"}]                                                              2013-01-01    19255873    124.0    [{\"iso_639_1\": \"en\", \"name\": \"English\"}]                                                                                       Released  A Master of Possession. A Crime of Obsession                 The Best Offer                               7.7           704           1\n",
       "           [{\"id\": 18, \"name\": \"Drama\"}]                                                                                                          https://twitter.com/Stonewall_Movie                                273899  [{\"id\": 173510, \"name\": \"stonewall riot\"}]                                                                                                                                                                                                                                                                                                                                                                                                                                                                                                                                                                        en                 Stonewall                                    \"Stonewall\" is a drama about a young man in New York caught up during the 1969 Stonewall Riots, a pivotal event widely considered the starting point for the modern gay civil rights movement.                                                                                                                                                                                                                                                                                                   5.160230    [{\"name\": \"Centropolis Entertainment\", \"id\": 347}, {\"name\": \"Mel's Cite du Cinema\", \"id\": 54502}]                                                                                                                                                                                                       [{\"iso_3166_1\": \"US\", \"name\": \"United States of America\"}]                                           2015-09-18    187674      129.0    [{\"iso_639_1\": \"en\", \"name\": \"English\"}]                                                                                       Released  Where Pride Began                                            Stonewall                                    5.2           32            1\n",
       "                                                                                                                                                                                                                                                                                                                                                                                                                                                                                                                                                                                                                                                                                                                                                                                                                                                                                                                                                                                                                                                                                                                                                                                                                                                                                                                                                                                                                                                                                                                                                                                                                                                                                                                                                                                                                                                                                                                                                                                                                                                                                                                                                          ..\n",
       "50000000   [{\"id\": 14, \"name\": \"Fantasy\"}, {\"id\": 27, \"name\": \"Horror\"}, {\"id\": 28, \"name\": \"Action\"}]                                            http://www.hanselandgretelmovie.com/                               60304   [{\"id\": 616, \"name\": \"witch\"}, {\"id\": 4252, \"name\": \"black magic\"}, {\"id\": 10028, \"name\": \"steampunk\"}, {\"id\": 10842, \"name\": \"good vs evil\"}, {\"id\": 11173, \"name\": \"troll\"}, {\"id\": 14687, \"name\": \"extreme violence\"}, {\"id\": 14819, \"name\": \"violence\"}, {\"id\": 40931, \"name\": \"witchcraft\"}, {\"id\": 156075, \"name\": \"evil\"}, {\"id\": 177894, \"name\": \"witch hunt\"}, {\"id\": 177900, \"name\": \"witch hunter\"}, {\"id\": 177901, \"name\": \"evil witch\"}, {\"id\": 179431, \"name\": \"duringcreditsstinger\"}, {\"id\": 190022, \"name\": \"hansel and gretel\"}, {\"id\": 192655, \"name\": \"guns\"}, {\"id\": 209714, \"name\": \"3d\"}]  en                 Hansel & Gretel: Witch Hunters               After getting a taste for blood as children, Hansel and Gretel have become the ultimate vigilantes, hell-bent on retribution. Now, unbeknownst to them, Hansel and Gretel have become the hunted, and must face an evil far greater than witches... their past.                                                                                                                                                                                                                                  53.027870   [{\"name\": \"Paramount Pictures\", \"id\": 4}, {\"name\": \"Studio Babelsberg\", \"id\": 264}, {\"name\": \"MTV Films\", \"id\": 746}, {\"name\": \"Gary Sanchez Productions\", \"id\": 4740}, {\"name\": \"Metro-Goldwyn-Mayer (MGM)\", \"id\": 8411}, {\"name\": \"Deutsche Filmf\\u00f6rderfonds (DFFF)\", \"id\": 11238}]               [{\"iso_3166_1\": \"US\", \"name\": \"United States of America\"}, {\"iso_3166_1\": \"DE\", \"name\": \"Germany\"}]  2013-01-17    224803475   88.0     [{\"iso_639_1\": \"en\", \"name\": \"English\"}]                                                                                       Released  Classic tale. New twist.                                     Hansel & Gretel: Witch Hunters               5.7           3239          1\n",
       "           [{\"id\": 14, \"name\": \"Fantasy\"}, {\"id\": 28, \"name\": \"Action\"}, {\"id\": 878, \"name\": \"Science Fiction\"}, {\"id\": 53, \"name\": \"Thriller\"}]  http://www.sonypictures.com/movies/underworldawakening/            834     [{\"id\": 810, \"name\": \"budapest\"}, {\"id\": 2849, \"name\": \"key\"}, {\"id\": 3133, \"name\": \"vampire\"}, {\"id\": 3760, \"name\": \"light\"}, {\"id\": 12564, \"name\": \"werewolf\"}, {\"id\": 34152, \"name\": \"evolution\"}, {\"id\": 231407, \"name\": \"fang vamp\"}]                                                                                                                                                                                                                                                                                                                                                                        en                 Underworld: Evolution                        As the war between the vampires and the Lycans rages on, Selene, a former member of the Death Dealers (an elite vampire special forces unit that hunts werewolves), and Michael, the werewolf hybrid, work together in an effort to unlock the secrets of their respective bloodlines.                                                                                                                                                                                                           49.020045   [{\"name\": \"Lakeshore Entertainment\", \"id\": 126}, {\"name\": \"Screen Gems\", \"id\": 3287}]                                                                                                                                                                                                                   [{\"iso_3166_1\": \"US\", \"name\": \"United States of America\"}]                                           2006-01-12    111340801   106.0    [{\"iso_639_1\": \"en\", \"name\": \"English\"}, {\"iso_639_1\": \"fr\", \"name\": \"Fran\\u00e7ais\"}, {\"iso_639_1\": \"hu\", \"name\": \"Magyar\"}]  Released  My God. Brother, what have you done?                         Underworld: Evolution                        6.4           1528          1\n",
       "           [{\"id\": 14, \"name\": \"Fantasy\"}, {\"id\": 35, \"name\": \"Comedy\"}, {\"id\": 10402, \"name\": \"Music\"}]                                          http://movies.disney.com/into-the-woods/                           224141  [{\"id\": 616, \"name\": \"witch\"}, {\"id\": 995, \"name\": \"cinderella\"}, {\"id\": 3071, \"name\": \"prince\"}, {\"id\": 3205, \"name\": \"fairy tale\"}, {\"id\": 4344, \"name\": \"musical\"}, {\"id\": 7376, \"name\": \"princess\"}, {\"id\": 10449, \"name\": \"sondheim\"}, {\"id\": 10541, \"name\": \"curse\"}, {\"id\": 158375, \"name\": \"based on stage musical\"}, {\"id\": 166472, \"name\": \"beanstalk\"}, {\"id\": 179431, \"name\": \"duringcreditsstinger\"}, {\"id\": 192993, \"name\": \"red riding hood\"}]                                                                                                                                                     en                 Into the Woods                               In a woods filled with magic and fairy tale characters, a baker and his wife set out to end the curse put on them by their neighbor, a spiteful witch.                                                                                                                                                                                                                                                                                                                                           65.901610   [{\"name\": \"Walt Disney Pictures\", \"id\": 2}, {\"name\": \"Marc Platt Productions\", \"id\": 2527}, {\"name\": \"Lucamar Productions\", \"id\": 17021}]                                                                                                                                                               [{\"iso_3166_1\": \"US\", \"name\": \"United States of America\"}]                                           2014-12-25    212902372   125.0    [{\"iso_639_1\": \"en\", \"name\": \"English\"}]                                                                                       Released  Be careful what you wish for...                              Into the Woods                               5.6           1652          1\n",
       "           [{\"id\": 14, \"name\": \"Fantasy\"}, {\"id\": 53, \"name\": \"Thriller\"}, {\"id\": 28, \"name\": \"Action\"}, {\"id\": 80, \"name\": \"Crime\"}]             http://www.driveangry3d.com/                                       47327   [{\"id\": 4479, \"name\": \"bone\"}, {\"id\": 41019, \"name\": \"car explosion\"}, {\"id\": 159631, \"name\": \"premarital sex\"}, {\"id\": 163055, \"name\": \"satanic cult\"}, {\"id\": 172345, \"name\": \"driver's license\"}, {\"id\": 172353, \"name\": \"finger gun\"}, {\"id\": 172354, \"name\": \"backhand slap\"}, {\"id\": 172357, \"name\": \"car jump\"}, {\"id\": 172364, \"name\": \"man punching a woman\"}, {\"id\": 172365, \"name\": \"magic trick\"}]                                                                                                                                                                                                    en                 Drive Angry                                  Milton is a hardened felon who has broken out of Hell, intent on finding the vicious cult who brutally murdered his daughter and kidnapped her baby. He joins forces with Piper, a sexy, tough-as-nails waitress with a 69 Charger, who's also seeking redemption of her own. Caught in a deadly race against time, Milton has three days to avoid capture, avenge his daughter's death, and save her baby before she's mercilessly sacrificed by the cult.                                      30.387148   [{\"name\": \"Summit Entertainment\", \"id\": 491}, {\"name\": \"Saturn Films\", \"id\": 831}, {\"name\": \"Nu Image Films\", \"id\": 925}, {\"name\": \"Millennium Films\", \"id\": 10254}, {\"name\": \"Michael De Luca Productions\", \"id\": 11370}]                                                                              [{\"iso_3166_1\": \"US\", \"name\": \"United States of America\"}]                                           2011-02-24    28931401    105.0    [{\"iso_639_1\": \"en\", \"name\": \"English\"}]                                                                                       Released  One hell of a ride.                                          Drive Angry                                  5.3           600           1\n",
       "0          []                                                                                                                                     http://mutualfriendsmovie.com/                                     198370  []                                                                                                                                                                                                                                                                                                                                                                                                                                                                                                                                                                                                                en                 Mutual Friends                               Surprise parties rarely go well. This one is no different, as a group of 30-somethings head through life, love and a day in New York City.                                                                                                                                                                                                                                                                                                                                                       0.136721    []                                                                                                                                                                                                                                                                                                      []                                                                                                   2014-04-15    0           0.0      [{\"iso_639_1\": \"en\", \"name\": \"English\"}]                                                                                       Released  Surprise parties rarely go well.                             Mutual Friends                               0.0           0             1\n",
       "Length: 1493, dtype: int64"
      ]
     },
     "execution_count": 34,
     "metadata": {},
     "output_type": "execute_result"
    }
   ],
   "source": [
    "movies_data.value_counts()"
   ]
  },
  {
   "cell_type": "code",
   "execution_count": 35,
   "metadata": {},
   "outputs": [
    {
     "data": {
      "text/plain": [
       "90.0     163\n",
       "100.0    149\n",
       "98.0     140\n",
       "97.0     133\n",
       "95.0     123\n",
       "        ... \n",
       "338.0      1\n",
       "53.0       1\n",
       "214.0      1\n",
       "194.0      1\n",
       "179.0      1\n",
       "Name: runtime, Length: 156, dtype: int64"
      ]
     },
     "execution_count": 35,
     "metadata": {},
     "output_type": "execute_result"
    }
   ],
   "source": [
    "ser.value_counts()"
   ]
  },
  {
   "cell_type": "code",
   "execution_count": 38,
   "metadata": {},
   "outputs": [
    {
     "data": {
      "text/plain": [
       "179.0      1\n",
       "194.0      1\n",
       "214.0      1\n",
       "53.0       1\n",
       "338.0      1\n",
       "        ... \n",
       "95.0     123\n",
       "97.0     133\n",
       "98.0     140\n",
       "100.0    149\n",
       "90.0     163\n",
       "Name: runtime, Length: 156, dtype: int64"
      ]
     },
     "execution_count": 38,
     "metadata": {},
     "output_type": "execute_result"
    }
   ],
   "source": [
    "ser.value_counts(ascending=True)"
   ]
  },
  {
   "cell_type": "code",
   "execution_count": 40,
   "metadata": {},
   "outputs": [
    {
     "data": {
      "text/plain": [
       "(101.4, 135.2]    2210\n",
       "(67.6, 101.4]     2155\n",
       "(135.2, 169.0]     311\n",
       "(169.0, 202.8]      64\n",
       "(-0.339, 33.8]      37\n",
       "(33.8, 67.6]        11\n",
       "(202.8, 236.6]       6\n",
       "(236.6, 270.4]       5\n",
       "(304.2, 338.0]       1\n",
       "(270.4, 304.2]       1\n",
       "Name: runtime, dtype: int64"
      ]
     },
     "execution_count": 40,
     "metadata": {},
     "output_type": "execute_result"
    }
   ],
   "source": [
    "ser.value_counts(ascending=False,bins=10)"
   ]
  },
  {
   "cell_type": "code",
   "execution_count": null,
   "metadata": {},
   "outputs": [],
   "source": []
  }
 ],
 "metadata": {
  "kernelspec": {
   "display_name": "Python 3",
   "language": "python",
   "name": "python3"
  },
  "language_info": {
   "codemirror_mode": {
    "name": "ipython",
    "version": 3
   },
   "file_extension": ".py",
   "mimetype": "text/x-python",
   "name": "python",
   "nbconvert_exporter": "python",
   "pygments_lexer": "ipython3",
   "version": "3.8.5"
  }
 },
 "nbformat": 4,
 "nbformat_minor": 4
}
